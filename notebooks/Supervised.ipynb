{
 "cells": [
  {
   "cell_type": "code",
   "execution_count": null,
   "metadata": {},
   "outputs": [],
   "source": [
    "import numpy as np\n",
    "import matplotlib.pyplot as plt\n",
    "import torch\n",
    "import torch.nn as nn\n",
    "import torch.nn.functional as F\n",
    "import scipy.fft as fft\n",
    "\n",
    "from torch.utils.data import DataLoader, Dataset\n",
    "\n",
    "from sklearn.model_selection import train_test_split\n",
    "\n",
    "from tqdm.notebook import tqdm"
   ]
  },
  {
   "cell_type": "code",
   "execution_count": null,
   "metadata": {},
   "outputs": [],
   "source": [
    "# load frequency data\n",
    "data = np.load(\"../Data/RayTracingData/Remcom_4x4_IR_100taps.npy\")\n",
    "# load Phi and Theta\n",
    "phi = np.load('../Data/RayTracingData/Remcom_4x4_AoA_phi.npy')\n",
    "theta = np.load('../Data/RayTracingData/Remcom_4x4_AoA_theta.npy')\n",
    "\n",
    "# load receiver positions\n",
    "rx_positions = np.load(\"../Data/RayTracingData/Remcom_4x4_rxpos.npy\")\n",
    "# load transmitter positions\n",
    "tx_positions = np.load(\"../Data/RayTracingData/Remcom_4x4_txpos.npy\")\n",
    "\n",
    "# fft and smooth our data to reduce noise\n",
    "data_fft = fft.fft(data , workers=-1)[:,:,::2]"
   ]
  },
  {
   "cell_type": "code",
   "execution_count": null,
   "metadata": {},
   "outputs": [],
   "source": [
    "def standarize(x):\n",
    "    return (np.array(x)-np.mean(x))/np.std(x)\n",
    "\n",
    "def euclidean_distance(x1,x2):\n",
    "    return np.linalg.norm(x1-x2)\n",
    "\n",
    "def take_norm(x):\n",
    "    return np.absolute(x)\n",
    "\n",
    "def drop_top_right(data, rx_positions):\n",
    "    idxx = rx_positions[:,0] > 300\n",
    "    idxy = rx_positions[:,1] > 150\n",
    "    idx = np.logical_and(idxx, idxy)\n",
    "    good_idcs = ~idx\n",
    "    return data[good_idcs]\n",
    "\n",
    "def drop_outliers(data):\n",
    "    upper_quantile = np.absolute(np.percentile(np.mean(data, axis=(1,2)), 0.99))\n",
    "    lower_quantile = np.absolute(np.percentile(np.mean(data, axis=(1,2)), 0.25))\n",
    "    IQR = (upper_quantile - lower_quantile) * 0\n",
    "    quartile_set = (lower_quantile -IQR , upper_quantile + IQR)\n",
    "    result = data[np.where((np.absolute(np.mean(data,axis=(1,2))) <= quartile_set[1]))]\n",
    "    return result\n",
    "    \n",
    "    \n",
    "\n",
    "def normalize(x):\n",
    "    return (x - x.min(0))/x.ptp(0)\n",
    "\n",
    "def fillna(x, value=0):\n",
    "    x[np.where(np.isnan(x))] = value\n",
    "    return x\n",
    "\n",
    "def zero_padding_as(x, target):\n",
    "    width = (target.shape[2] - x.shape[2])//2\n",
    "    x = np.pad(x, (width,width))\n",
    "    return x\n",
    "\n",
    "def random_sample_and_remove(X, y, sample_size):\n",
    "    \"\"\"A function that takes a random subset of samples out of a numpy array\n",
    "    inputs: (X::np.array)\n",
    "            (y::np.array)\n",
    "            (sample_size: (integer))\n",
    "    outputs: subset_X::np.array\n",
    "             subset_y::np.array\n",
    "             (original_X - subset_X)::np.array\n",
    "             (original_y - subset_y)::np.array\n",
    "    \"\"\"\n",
    "    indices = np.random.choice(data.shape[0], sample_size, replace=False)\n",
    "    return (X[indices], X[~indices], y[indices], y[~indices])\n",
    "    "
   ]
  },
  {
   "cell_type": "code",
   "execution_count": null,
   "metadata": {},
   "outputs": [],
   "source": [
    "X_1 = standarize(drop_top_right(data_fft, rx_positions))\n",
    "X_1 = np.hstack([np.real(X_1), np.imag(X_1)])\n",
    "X_2 = zero_padding_as(fillna(standarize(drop_top_right(phi, rx_positions)))[10:], X_1)\n",
    "X_3 = zero_padding_as(fillna(standarize(drop_top_right(theta, rx_positions)))[10:], X_1)\n",
    "\n",
    "\n",
    "X = np.hstack([X_1, X_2, X_3])\n",
    "Y = drop_top_right(standarize(rx_positions)[:,:2], rx_positions)\n"
   ]
  },
  {
   "cell_type": "code",
   "execution_count": null,
   "metadata": {},
   "outputs": [],
   "source": [
    "train_X, test_X, train_y, test_y = train_test_split(X,Y, test_size=0.9)"
   ]
  },
  {
   "cell_type": "code",
   "execution_count": null,
   "metadata": {},
   "outputs": [],
   "source": [
    "class MyDataSet(Dataset):\n",
    "    def __init__(self, X,y):\n",
    "        self.X = torch.Tensor(X)\n",
    "        self.y = torch.Tensor(y)\n",
    "    def __len__(self):\n",
    "        return self.X.shape[0]\n",
    "    def channels(self):\n",
    "        return self.X.shape[1]\n",
    "    def timesteps(self):\n",
    "        return self.X.shape[2]\n",
    "        \n",
    "    def __getitem__(self, idx):\n",
    "        return self.X[idx], self.y[idx]"
   ]
  },
  {
   "cell_type": "code",
   "execution_count": null,
   "metadata": {},
   "outputs": [],
   "source": [
    "train_DS = MyDataSet(train_X, train_y)\n",
    "test_DS = MyDataSet(test_X, test_y)\n",
    "\n",
    "train_loader = DataLoader(train_DS, batch_size=128, drop_last=True, shuffle=True)\n",
    "test_loader = DataLoader(test_DS, batch_size=128, drop_last=True)"
   ]
  },
  {
   "cell_type": "code",
   "execution_count": null,
   "metadata": {},
   "outputs": [],
   "source": [
    "train_DS[0:3][1]"
   ]
  },
  {
   "cell_type": "code",
   "execution_count": null,
   "metadata": {},
   "outputs": [],
   "source": [
    "class SimpleNN(nn.Module):\n",
    "    def __init__(self):\n",
    "        super(SimpleNN, self).__init__()\n",
    "        self.conv1 = nn.Conv1d(in_channels=train_DS.channels(), \n",
    "                               out_channels=128, \n",
    "                               kernel_size=8,\n",
    "                              stride=2)\n",
    "        self.conv2 = nn.Conv1d(in_channels=128, out_channels=64, kernel_size=4, stride=2)\n",
    "        self.conv3 = nn.Conv1d(in_channels=64, out_channels=32, kernel_size=2, stride=2)\n",
    "        self.lin1 = nn.Linear(160, 64)\n",
    "        self.lin2 = nn.Linear(64, 32)\n",
    "        self.out = nn.Linear(32,2)\n",
    "        \n",
    "    def forward(self, x):\n",
    "        x = F.normalize(F.relu(self.conv1(x)))\n",
    "        x = F.normalize(F.relu(self.conv2(x)))\n",
    "        x = F.normalize(F.relu(self.conv3(x)))\n",
    "        #x = F.avg_pool1d(x, kernel_size=3)\n",
    "        x = torch.flatten(x,1)\n",
    "        x = F.dropout(F.selu(self.lin1(x)), 0.2)\n",
    "        x = F.dropout(F.selu(self.lin2(x)), 0.2)\n",
    "\n",
    "        x = self.out(x)\n",
    "        return x\n",
    "    \n",
    "        "
   ]
  },
  {
   "cell_type": "code",
   "execution_count": null,
   "metadata": {},
   "outputs": [],
   "source": [
    "model = SimpleNN()\n",
    "#model.load_state_dict(torch.load('../trained_models/supervised_model.pkl'))\n",
    "optimizer = torch.optim.Adam(params=model.parameters())\n",
    "criterion = nn.MSELoss()\n",
    "train_Loss_normalizer = len(train_DS)\n",
    "test_Loss_normalizer = len(test_DS)"
   ]
  },
  {
   "cell_type": "code",
   "execution_count": null,
   "metadata": {},
   "outputs": [],
   "source": [
    "last_val_loss = 9999\n",
    "\n",
    "for e in range(200):\n",
    "    #early stopping\n",
    "    val_loss = 0\n",
    "    if val_loss < last_val_loss+0.0005:\n",
    "        last_val_loss=val_loss\n",
    "        patience_counter = 0\n",
    "    else:\n",
    "        patience_counter += 1\n",
    "    if patience_counter >0.0005:\n",
    "        break\n",
    "        \n",
    "    # train\n",
    "    model.train()\n",
    "    loss=0\n",
    "    for x, y in tqdm(train_loader):\n",
    "        optimizer.zero_grad()\n",
    "        y_hat = model(x)\n",
    "        batch_loss = criterion(y, y_hat)\n",
    "        \n",
    "        batch_loss.backward()\n",
    "        \n",
    "        optimizer.step()\n",
    "        \n",
    "        loss+=batch_loss.item()\n",
    "    loss /= train_Loss_normalizer\n",
    "    #validate\n",
    "    model.eval()\n",
    "    val_loss = 0\n",
    "    for x,y in test_loader:\n",
    "        y_hat = model(x)\n",
    "        val_loss += criterion(y, y_hat).item()\n",
    "    val_loss/=test_Loss_normalizer\n",
    "    print(f\"Epoch {e}: Train_loss: {loss} Validation_loss: {val_loss}\")\n",
    "        "
   ]
  },
  {
   "cell_type": "code",
   "execution_count": null,
   "metadata": {},
   "outputs": [],
   "source": [
    "y_real = test_DS[:][1]\n",
    "yhats = model(test_DS[:][0])\n",
    "\n",
    "from sklearn.cluster import KMeans\n",
    "km = KMeans(n_clusters=4) \n",
    "km = km.fit(y_real)\n",
    "labels = km.predict(y_real)"
   ]
  },
  {
   "cell_type": "code",
   "execution_count": null,
   "metadata": {},
   "outputs": [],
   "source": [
    "import seaborn as sns\n",
    "sns.set()\n",
    "#plt.figure(figsize=(15,15))\n",
    "sns.scatterplot(yhats[:,0].detach(), yhats[:,1].detach(), \n",
    "                #hue=torch.sum(torch.abs(y_real - yhats), dim=1).detach(), \n",
    "                hue=labels,\n",
    "                color='r', alpha=1) \n"
   ]
  },
  {
   "cell_type": "code",
   "execution_count": null,
   "metadata": {},
   "outputs": [],
   "source": [
    "sns.scatterplot(y_real[:,0], y_real[:,1],\n",
    "                #hue=torch.sum(torch.abs(y_real - yhats), dim=1).detach(), \n",
    "                hue=labels,\n",
    "                color='g', alpha=1)\n"
   ]
  },
  {
   "cell_type": "code",
   "execution_count": null,
   "metadata": {},
   "outputs": [],
   "source": [
    "predicted_labels = km.predict(yhats.detach())"
   ]
  },
  {
   "cell_type": "code",
   "execution_count": null,
   "metadata": {},
   "outputs": [],
   "source": [
    "sns.scatterplot(yhats[:,0].detach(), yhats[:,1].detach(), \n",
    "                #hue=torch.sum(torch.abs(y_real - yhats), dim=1).detach(), \n",
    "                hue=predicted_labels,\n",
    "                color='r', alpha=1) "
   ]
  },
  {
   "cell_type": "code",
   "execution_count": null,
   "metadata": {},
   "outputs": [],
   "source": [
    "from sklearn.metrics import classification_report, confusion_matrix"
   ]
  },
  {
   "cell_type": "code",
   "execution_count": null,
   "metadata": {},
   "outputs": [],
   "source": [
    "print(classification_report(labels, predicted_labels))"
   ]
  },
  {
   "cell_type": "code",
   "execution_count": null,
   "metadata": {},
   "outputs": [],
   "source": []
  }
 ],
 "metadata": {
  "kernelspec": {
   "display_name": "Python 3",
   "language": "python",
   "name": "python3"
  },
  "language_info": {
   "codemirror_mode": {
    "name": "ipython",
    "version": 3
   },
   "file_extension": ".py",
   "mimetype": "text/x-python",
   "name": "python",
   "nbconvert_exporter": "python",
   "pygments_lexer": "ipython3",
   "version": "3.8.2"
  }
 },
 "nbformat": 4,
 "nbformat_minor": 2
}
