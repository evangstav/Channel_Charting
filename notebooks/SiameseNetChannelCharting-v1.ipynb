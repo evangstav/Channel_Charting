{
 "cells": [
  {
   "cell_type": "code",
   "execution_count": 1,
   "metadata": {},
   "outputs": [
    {
     "data": {
      "text/html": [
       "\n",
       "                Logging results to <a href=\"https://wandb.com\" target=\"_blank\">Weights & Biases</a> <a href=\"https://docs.wandb.com/integrations/jupyter.html\" target=\"_blank\">(Documentation)</a>.<br/>\n",
       "                Project page: <a href=\"https://app.wandb.ai/evs/ChannelCharting\" target=\"_blank\">https://app.wandb.ai/evs/ChannelCharting</a><br/>\n",
       "                Run page: <a href=\"https://app.wandb.ai/evs/ChannelCharting/runs/3cfqyfqn\" target=\"_blank\">https://app.wandb.ai/evs/ChannelCharting/runs/3cfqyfqn</a><br/>\n",
       "            "
      ],
      "text/plain": [
       "<IPython.core.display.HTML object>"
      ]
     },
     "metadata": {},
     "output_type": "display_data"
    },
    {
     "data": {
      "text/plain": [
       "W&B Run: https://app.wandb.ai/evs/ChannelCharting/runs/3cfqyfqn"
      ]
     },
     "execution_count": 1,
     "metadata": {},
     "output_type": "execute_result"
    }
   ],
   "source": [
    "import wandb\n",
    "wandb.init(project='ChannelCharting')"
   ]
  },
  {
   "cell_type": "code",
   "execution_count": 2,
   "metadata": {},
   "outputs": [
    {
     "data": {
      "text/html": [
       "<style>.container { width:100% !important; }</style>"
      ],
      "text/plain": [
       "<IPython.core.display.HTML object>"
      ]
     },
     "metadata": {},
     "output_type": "display_data"
    }
   ],
   "source": [
    "from IPython.core.display import display, HTML\n",
    "display(HTML(\"<style>.container { width:100% !important; }</style>\"))"
   ]
  },
  {
   "cell_type": "code",
   "execution_count": 3,
   "metadata": {},
   "outputs": [],
   "source": [
    "%load_ext autoreload\n",
    "%autoreload 2\n",
    "import numpy as np\n",
    "\n",
    "from sklearn.preprocessing import StandardScaler, MinMaxScaler\n",
    "\n",
    "import matplotlib.pyplot as plt\n",
    "import seaborn as sns\n",
    "sns.set()\n",
    "\n",
    "import sys\n",
    "sys.path.append(\"../src\")\n",
    "import utils.data_preparation as dp\n",
    "import utils.metrics as metrics\n",
    "from models import siamese\n",
    "\n",
    "import torch \n",
    "import torch.nn as nn\n",
    "import torch.nn.functional as F\n",
    "import torch.optim as optim\n",
    "from torch.utils.data import Dataset, DataLoader\n",
    "from torch.nn import MSELoss\n",
    "\n",
    "from sklearn.model_selection import train_test_split"
   ]
  },
  {
   "cell_type": "code",
   "execution_count": 4,
   "metadata": {},
   "outputs": [],
   "source": [
    "# read data\n",
    "data = np.load(\"../Data/RayTracingData/Remcom_4x4_IR_100taps.npy\")\n",
    "rx_positions = np.load(\"../Data/RayTracingData/Remcom_4x4_rxpos.npy\")\n",
    "true_pos = rx_positions[:,:2]"
   ]
  },
  {
   "cell_type": "markdown",
   "metadata": {},
   "source": [
    "## Setting up the Custom Dataset"
   ]
  },
  {
   "cell_type": "code",
   "execution_count": 28,
   "metadata": {},
   "outputs": [],
   "source": [
    "# undersampling\n",
    "idces = np.random.randint(0, data.shape[0], int(0.01*data.shape[0]))\n",
    "data_undersampled = data[idces]\n",
    "true_pos_undersampled = true_pos[idces]"
   ]
  },
  {
   "cell_type": "code",
   "execution_count": 32,
   "metadata": {},
   "outputs": [],
   "source": [
    "# train test split\n",
    "train_X, test_X= train_test_split(data_undersampled)\n",
    "train_y, test_y= train_test_split(true_pos_undersampled)"
   ]
  },
  {
   "cell_type": "code",
   "execution_count": 33,
   "metadata": {},
   "outputs": [],
   "source": [
    "train_dataset = dp.SiameseDataset(train_X, train_y)\n",
    "scaler_X = train_dataset.scaler_real, train_dataset.scaler_imag\n",
    "scaler_y = train_dataset.scaler_y\n",
    "test_dataset = dp.SiameseDataset(test_X, test_y, scaler_X, scaler_y)"
   ]
  },
  {
   "cell_type": "code",
   "execution_count": null,
   "metadata": {},
   "outputs": [],
   "source": []
  },
  {
   "cell_type": "code",
   "execution_count": 34,
   "metadata": {},
   "outputs": [
    {
     "data": {
      "text/plain": [
       "32"
      ]
     },
     "execution_count": 34,
     "metadata": {},
     "output_type": "execute_result"
    }
   ],
   "source": [
    "train_dataset.nb_channels()"
   ]
  },
  {
   "cell_type": "code",
   "execution_count": 35,
   "metadata": {},
   "outputs": [],
   "source": [
    "class SimpleNN(nn.Module):\n",
    "    def __init__(self, dropout):\n",
    "        super(SimpleNN, self).__init__()\n",
    "        self.conv1 = nn.Conv1d(in_channels=train_dataset.nb_channels(),\n",
    "                          out_channels=128,\n",
    "                          kernel_size=16)\n",
    "        self.bn1 = nn.BatchNorm1d(128)\n",
    "        self.conv2 = nn.Conv1d(in_channels=128, \n",
    "                          out_channels=64,\n",
    "                          kernel_size=8)\n",
    "        self.bn2 = nn.BatchNorm1d(64)\n",
    "        self.conv3 = nn.Conv1d(in_channels=64,\n",
    "                          out_channels=16,\n",
    "                          kernel_size=4)\n",
    "        self.bn3 = nn.BatchNorm1d(16)\n",
    "        \n",
    "        f = siamese.conv1d_output_size\n",
    "        self.features = f(f(f(train_dataset.nb_samples(),kernel_size=16),\n",
    "                                                       kernel_size=8), \n",
    "                                                         kernel_size=4)\n",
    "\n",
    "        \n",
    "        \n",
    "        self.lin1 = nn.Linear(in_features= 16 * self.features, out_features=128)\n",
    "        self.lin2 = nn.Linear(in_features=128, out_features=32)\n",
    "        self.lin3 = nn.Linear(in_features=32, out_features=8)\n",
    "        self.lin4 = nn.Linear(in_features=8, out_features=2)\n",
    "        \n",
    "        self.dropout = nn.Dropout(p=dropout)\n",
    "        \n",
    "    def forward(self, x):\n",
    "        x = self.bn1(F.selu(self.conv1(x)))\n",
    "        x = self.bn2(F.selu(self.conv2(x)))\n",
    "        x = self.bn3(F.selu(self.conv3(x)))\n",
    "        x = torch.flatten(x, 1)\n",
    "        x = self.dropout(F.selu(self.lin1(x)))\n",
    "        x = self.dropout(F.selu(self.lin2(x)))\n",
    "        x = self.dropout(F.selu(self.lin3(x)))\n",
    "        \n",
    "        out = self.lin4(x)\n",
    "        \n",
    "        return out\n",
    "        \n",
    "    "
   ]
  },
  {
   "cell_type": "code",
   "execution_count": 36,
   "metadata": {},
   "outputs": [],
   "source": [
    "dropout = 0.3\n",
    "model = SimpleNN(dropout)\n"
   ]
  },
  {
   "cell_type": "code",
   "execution_count": 11,
   "metadata": {},
   "outputs": [],
   "source": [
    "def loss_function(x1, x2, y1, y2):\n",
    "    return torch.mean((torch.dist(x1,x2) - torch.dist(y1, y2))**2/(torch.dist(x1,x2) + 1e-5))"
   ]
  },
  {
   "cell_type": "markdown",
   "metadata": {},
   "source": [
    "## Training"
   ]
  },
  {
   "cell_type": "code",
   "execution_count": 12,
   "metadata": {},
   "outputs": [],
   "source": [
    "a = len(test_dataset)/len(train_dataset)\n",
    "batch_size = 32"
   ]
  },
  {
   "cell_type": "code",
   "execution_count": 13,
   "metadata": {},
   "outputs": [],
   "source": [
    "train_loader = DataLoader(train_dataset, batch_size=batch_size, shuffle=True)\n",
    "test_loader = DataLoader(test_dataset, batch_size=batch_size, shuffle=True)\n",
    "supervised_criterion = loss_function\n",
    "optimizer = optim.Adam(model.parameters())\n"
   ]
  },
  {
   "cell_type": "code",
   "execution_count": 14,
   "metadata": {},
   "outputs": [
    {
     "name": "stderr",
     "output_type": "stream",
     "text": [
      "wandb: Wandb version 0.8.27 is available!  To upgrade, please run:\n",
      "wandb:  $ pip install wandb --upgrade\n"
     ]
    },
    {
     "name": "stdout",
     "output_type": "stream",
     "text": [
      "Epoch 1, Training Loss: 59.840179443359375, Validation Loss: 112.69076538085938\n",
      "Epoch 2, Training Loss: 27.797075271606445, Validation Loss: 220.27191162109375\n",
      "Epoch 3, Training Loss: 19.93855094909668, Validation Loss: 50.6134147644043\n",
      "Epoch 4, Training Loss: 13.46564769744873, Validation Loss: 525.0740966796875\n",
      "Epoch 5, Training Loss: 14.860119819641113, Validation Loss: 464.4764404296875\n",
      "Epoch 6, Training Loss: 12.18165397644043, Validation Loss: 277.5961608886719\n",
      "Epoch 7, Training Loss: 14.475183486938477, Validation Loss: 370.56658935546875\n",
      "Epoch 8, Training Loss: 10.626973152160645, Validation Loss: 378.9350280761719\n",
      "Epoch 9, Training Loss: 10.672843933105469, Validation Loss: 195.6412811279297\n",
      "Epoch 10, Training Loss: 10.392059326171875, Validation Loss: 125.70916748046875\n",
      "Epoch 11, Training Loss: 10.382134437561035, Validation Loss: 331.61627197265625\n",
      "Epoch 12, Training Loss: 10.233940124511719, Validation Loss: 487.1954040527344\n",
      "Epoch 13, Training Loss: 9.530137062072754, Validation Loss: 217.4718475341797\n",
      "Epoch 14, Training Loss: 10.376482963562012, Validation Loss: 290.25\n",
      "Epoch 15, Training Loss: 8.450592041015625, Validation Loss: 252.7091064453125\n",
      "Epoch 16, Training Loss: 10.219128608703613, Validation Loss: 517.136962890625\n",
      "Epoch 17, Training Loss: 10.98104190826416, Validation Loss: 124.1633071899414\n",
      "Epoch 18, Training Loss: 11.05799388885498, Validation Loss: 166.045166015625\n"
     ]
    },
    {
     "ename": "KeyboardInterrupt",
     "evalue": "",
     "output_type": "error",
     "traceback": [
      "\u001b[0;31m---------------------------------------------------------------------------\u001b[0m",
      "\u001b[0;31mKeyboardInterrupt\u001b[0m                         Traceback (most recent call last)",
      "\u001b[0;32m<ipython-input-14-ea4c32406622>\u001b[0m in \u001b[0;36m<module>\u001b[0;34m\u001b[0m\n\u001b[1;32m     10\u001b[0m \u001b[0;34m\u001b[0m\u001b[0m\n\u001b[1;32m     11\u001b[0m         \u001b[0moptimizer\u001b[0m\u001b[0;34m.\u001b[0m\u001b[0mzero_grad\u001b[0m\u001b[0;34m(\u001b[0m\u001b[0;34m)\u001b[0m\u001b[0;34m\u001b[0m\u001b[0;34m\u001b[0m\u001b[0m\n\u001b[0;32m---> 12\u001b[0;31m         \u001b[0myhat1\u001b[0m\u001b[0;34m,\u001b[0m \u001b[0myhat2\u001b[0m \u001b[0;34m=\u001b[0m \u001b[0mmodel\u001b[0m\u001b[0;34m(\u001b[0m\u001b[0mx1\u001b[0m\u001b[0;34m)\u001b[0m\u001b[0;34m,\u001b[0m \u001b[0mmodel\u001b[0m\u001b[0;34m(\u001b[0m\u001b[0mx2\u001b[0m\u001b[0;34m)\u001b[0m\u001b[0;34m\u001b[0m\u001b[0;34m\u001b[0m\u001b[0m\n\u001b[0m\u001b[1;32m     13\u001b[0m \u001b[0;34m\u001b[0m\u001b[0m\n\u001b[1;32m     14\u001b[0m         \u001b[0;31m#supervised\u001b[0m\u001b[0;34m\u001b[0m\u001b[0;34m\u001b[0m\u001b[0;34m\u001b[0m\u001b[0m\n",
      "\u001b[0;32m~/.cache/pypoetry/virtualenvs/channel-charting-8NuP_Ebk-py3.8/lib/python3.8/site-packages/torch/nn/modules/module.py\u001b[0m in \u001b[0;36m__call__\u001b[0;34m(self, *input, **kwargs)\u001b[0m\n\u001b[1;32m    530\u001b[0m             \u001b[0mresult\u001b[0m \u001b[0;34m=\u001b[0m \u001b[0mself\u001b[0m\u001b[0;34m.\u001b[0m\u001b[0m_slow_forward\u001b[0m\u001b[0;34m(\u001b[0m\u001b[0;34m*\u001b[0m\u001b[0minput\u001b[0m\u001b[0;34m,\u001b[0m \u001b[0;34m**\u001b[0m\u001b[0mkwargs\u001b[0m\u001b[0;34m)\u001b[0m\u001b[0;34m\u001b[0m\u001b[0;34m\u001b[0m\u001b[0m\n\u001b[1;32m    531\u001b[0m         \u001b[0;32melse\u001b[0m\u001b[0;34m:\u001b[0m\u001b[0;34m\u001b[0m\u001b[0;34m\u001b[0m\u001b[0m\n\u001b[0;32m--> 532\u001b[0;31m             \u001b[0mresult\u001b[0m \u001b[0;34m=\u001b[0m \u001b[0mself\u001b[0m\u001b[0;34m.\u001b[0m\u001b[0mforward\u001b[0m\u001b[0;34m(\u001b[0m\u001b[0;34m*\u001b[0m\u001b[0minput\u001b[0m\u001b[0;34m,\u001b[0m \u001b[0;34m**\u001b[0m\u001b[0mkwargs\u001b[0m\u001b[0;34m)\u001b[0m\u001b[0;34m\u001b[0m\u001b[0;34m\u001b[0m\u001b[0m\n\u001b[0m\u001b[1;32m    533\u001b[0m         \u001b[0;32mfor\u001b[0m \u001b[0mhook\u001b[0m \u001b[0;32min\u001b[0m \u001b[0mself\u001b[0m\u001b[0;34m.\u001b[0m\u001b[0m_forward_hooks\u001b[0m\u001b[0;34m.\u001b[0m\u001b[0mvalues\u001b[0m\u001b[0;34m(\u001b[0m\u001b[0;34m)\u001b[0m\u001b[0;34m:\u001b[0m\u001b[0;34m\u001b[0m\u001b[0;34m\u001b[0m\u001b[0m\n\u001b[1;32m    534\u001b[0m             \u001b[0mhook_result\u001b[0m \u001b[0;34m=\u001b[0m \u001b[0mhook\u001b[0m\u001b[0;34m(\u001b[0m\u001b[0mself\u001b[0m\u001b[0;34m,\u001b[0m \u001b[0minput\u001b[0m\u001b[0;34m,\u001b[0m \u001b[0mresult\u001b[0m\u001b[0;34m)\u001b[0m\u001b[0;34m\u001b[0m\u001b[0;34m\u001b[0m\u001b[0m\n",
      "\u001b[0;32m<ipython-input-9-f0599535ec73>\u001b[0m in \u001b[0;36mforward\u001b[0;34m(self, x)\u001b[0m\n\u001b[1;32m     31\u001b[0m     \u001b[0;32mdef\u001b[0m \u001b[0mforward\u001b[0m\u001b[0;34m(\u001b[0m\u001b[0mself\u001b[0m\u001b[0;34m,\u001b[0m \u001b[0mx\u001b[0m\u001b[0;34m)\u001b[0m\u001b[0;34m:\u001b[0m\u001b[0;34m\u001b[0m\u001b[0;34m\u001b[0m\u001b[0m\n\u001b[1;32m     32\u001b[0m         \u001b[0mx\u001b[0m \u001b[0;34m=\u001b[0m \u001b[0mself\u001b[0m\u001b[0;34m.\u001b[0m\u001b[0mbn1\u001b[0m\u001b[0;34m(\u001b[0m\u001b[0mF\u001b[0m\u001b[0;34m.\u001b[0m\u001b[0mselu\u001b[0m\u001b[0;34m(\u001b[0m\u001b[0mself\u001b[0m\u001b[0;34m.\u001b[0m\u001b[0mconv1\u001b[0m\u001b[0;34m(\u001b[0m\u001b[0mx\u001b[0m\u001b[0;34m)\u001b[0m\u001b[0;34m)\u001b[0m\u001b[0;34m)\u001b[0m\u001b[0;34m\u001b[0m\u001b[0;34m\u001b[0m\u001b[0m\n\u001b[0;32m---> 33\u001b[0;31m         \u001b[0mx\u001b[0m \u001b[0;34m=\u001b[0m \u001b[0mself\u001b[0m\u001b[0;34m.\u001b[0m\u001b[0mbn2\u001b[0m\u001b[0;34m(\u001b[0m\u001b[0mF\u001b[0m\u001b[0;34m.\u001b[0m\u001b[0mselu\u001b[0m\u001b[0;34m(\u001b[0m\u001b[0mself\u001b[0m\u001b[0;34m.\u001b[0m\u001b[0mconv2\u001b[0m\u001b[0;34m(\u001b[0m\u001b[0mx\u001b[0m\u001b[0;34m)\u001b[0m\u001b[0;34m)\u001b[0m\u001b[0;34m)\u001b[0m\u001b[0;34m\u001b[0m\u001b[0;34m\u001b[0m\u001b[0m\n\u001b[0m\u001b[1;32m     34\u001b[0m         \u001b[0mx\u001b[0m \u001b[0;34m=\u001b[0m \u001b[0mself\u001b[0m\u001b[0;34m.\u001b[0m\u001b[0mbn3\u001b[0m\u001b[0;34m(\u001b[0m\u001b[0mF\u001b[0m\u001b[0;34m.\u001b[0m\u001b[0mselu\u001b[0m\u001b[0;34m(\u001b[0m\u001b[0mself\u001b[0m\u001b[0;34m.\u001b[0m\u001b[0mconv3\u001b[0m\u001b[0;34m(\u001b[0m\u001b[0mx\u001b[0m\u001b[0;34m)\u001b[0m\u001b[0;34m)\u001b[0m\u001b[0;34m)\u001b[0m\u001b[0;34m\u001b[0m\u001b[0;34m\u001b[0m\u001b[0m\n\u001b[1;32m     35\u001b[0m         \u001b[0mx\u001b[0m \u001b[0;34m=\u001b[0m \u001b[0mtorch\u001b[0m\u001b[0;34m.\u001b[0m\u001b[0mflatten\u001b[0m\u001b[0;34m(\u001b[0m\u001b[0mx\u001b[0m\u001b[0;34m,\u001b[0m \u001b[0;36m1\u001b[0m\u001b[0;34m)\u001b[0m\u001b[0;34m\u001b[0m\u001b[0;34m\u001b[0m\u001b[0m\n",
      "\u001b[0;32m~/.cache/pypoetry/virtualenvs/channel-charting-8NuP_Ebk-py3.8/lib/python3.8/site-packages/torch/nn/functional.py\u001b[0m in \u001b[0;36mselu\u001b[0;34m(input, inplace)\u001b[0m\n\u001b[1;32m   1015\u001b[0m         \u001b[0mresult\u001b[0m \u001b[0;34m=\u001b[0m \u001b[0mtorch\u001b[0m\u001b[0;34m.\u001b[0m\u001b[0mselu_\u001b[0m\u001b[0;34m(\u001b[0m\u001b[0minput\u001b[0m\u001b[0;34m)\u001b[0m\u001b[0;34m\u001b[0m\u001b[0;34m\u001b[0m\u001b[0m\n\u001b[1;32m   1016\u001b[0m     \u001b[0;32melse\u001b[0m\u001b[0;34m:\u001b[0m\u001b[0;34m\u001b[0m\u001b[0;34m\u001b[0m\u001b[0m\n\u001b[0;32m-> 1017\u001b[0;31m         \u001b[0mresult\u001b[0m \u001b[0;34m=\u001b[0m \u001b[0mtorch\u001b[0m\u001b[0;34m.\u001b[0m\u001b[0mselu\u001b[0m\u001b[0;34m(\u001b[0m\u001b[0minput\u001b[0m\u001b[0;34m)\u001b[0m\u001b[0;34m\u001b[0m\u001b[0;34m\u001b[0m\u001b[0m\n\u001b[0m\u001b[1;32m   1018\u001b[0m     \u001b[0;32mreturn\u001b[0m \u001b[0mresult\u001b[0m\u001b[0;34m\u001b[0m\u001b[0;34m\u001b[0m\u001b[0m\n\u001b[1;32m   1019\u001b[0m \u001b[0;34m\u001b[0m\u001b[0m\n",
      "\u001b[0;31mKeyboardInterrupt\u001b[0m: "
     ]
    }
   ],
   "source": [
    "#wandb.log({\"Batch_size\": batch_size,\n",
    "#           \"Dropout\": dropout\n",
    "#          })\n",
    "for e in range(40):\n",
    "    # train\n",
    "    loss = 0\n",
    "    \n",
    "    for (x1, y1), (x2, y2) in train_loader:\n",
    "        \n",
    "        \n",
    "        optimizer.zero_grad()\n",
    "        yhat1, yhat2 = model(x1), model(x2)\n",
    "        \n",
    "        #supervised\n",
    "        batch_loss = supervised_criterion(yhat1, yhat2, y1 ,y2)\n",
    "        \n",
    "        batch_loss.backward()\n",
    "        optimizer.step()\n",
    "    \n",
    "        loss+=batch_loss\n",
    "    \n",
    "    #validation\n",
    "    model.eval()\n",
    "    val_loss = 0\n",
    "    for (x1, y1), (x2, y2) in test_loader:\n",
    "        y1, y2 = model(x1), model(x2)\n",
    "        val_loss += supervised_criterion(yhat1, yhat2, y1 ,y2)\n",
    "    \n",
    "    wandb.log({\n",
    "        \"Training Loss\": a*loss,\n",
    "        \"Validation Loss\": val_loss,\n",
    "    })\n",
    "    print(f\"Epoch {e+1}, Training Loss: {a*loss}, Validation Loss: {val_loss}\")"
   ]
  },
  {
   "cell_type": "markdown",
   "metadata": {},
   "source": [
    "## Evaluate results"
   ]
  },
  {
   "cell_type": "code",
   "execution_count": 37,
   "metadata": {},
   "outputs": [],
   "source": [
    "yhats = model(test_dataset[:][0][0]).detach()\n",
    "y = test_dataset[:][0][1].detach()\n",
    "X = test_dataset[:][0][0]"
   ]
  },
  {
   "cell_type": "code",
   "execution_count": 38,
   "metadata": {},
   "outputs": [
    {
     "data": {
      "text/plain": [
       "<matplotlib.axes._subplots.AxesSubplot at 0x7f4553164520>"
      ]
     },
     "execution_count": 38,
     "metadata": {},
     "output_type": "execute_result"
    },
    {
     "data": {
      "image/png": "[encoded data removed]",
      "text/plain": [
       "<Figure size 432x288 with 1 Axes>"
      ]
     },
     "metadata": {},
     "output_type": "display_data"
    }
   ],
   "source": [
    "sns.distplot(y)\n",
    "sns.distplot(yhats)\n",
    "#sns.distplot(test_dataset[:][0][0])"
   ]
  },
  {
   "cell_type": "code",
   "execution_count": 39,
   "metadata": {},
   "outputs": [
    {
     "data": {
      "text/plain": [
       "(tensor(-0.0523), tensor(1.0495), tensor(-0.1008), tensor(0.2978))"
      ]
     },
     "execution_count": 39,
     "metadata": {},
     "output_type": "execute_result"
    }
   ],
   "source": [
    "y.median(), y.std(), yhats.median(), yhats.std()"
   ]
  },
  {
   "cell_type": "code",
   "execution_count": 40,
   "metadata": {},
   "outputs": [
    {
     "data": {
      "text/plain": [
       "(tensor(-14.8733), tensor(14.8150), tensor(-0.0008), tensor(0.1644))"
      ]
     },
     "execution_count": 40,
     "metadata": {},
     "output_type": "execute_result"
    }
   ],
   "source": [
    "test_dataset[:][0][0].min(), test_dataset[:][0][0].max(), test_dataset[:][0][0].median(), test_dataset[:][0][0].std()"
   ]
  },
  {
   "cell_type": "code",
   "execution_count": 41,
   "metadata": {},
   "outputs": [
    {
     "data": {
      "text/plain": [
       "(torch.Size([60, 2]), torch.Size([60, 2]))"
      ]
     },
     "execution_count": 41,
     "metadata": {},
     "output_type": "execute_result"
    }
   ],
   "source": [
    "y.shape, yhats.shape"
   ]
  },
  {
   "cell_type": "code",
   "execution_count": 42,
   "metadata": {},
   "outputs": [],
   "source": [
    "yhats = yhats.detach()"
   ]
  },
  {
   "cell_type": "code",
   "execution_count": 43,
   "metadata": {},
   "outputs": [
    {
     "data": {
      "text/plain": [
       "<matplotlib.collections.PathCollection at 0x7f4552e7f190>"
      ]
     },
     "execution_count": 43,
     "metadata": {},
     "output_type": "execute_result"
    },
    {
     "data": {
      "image/png": "[encoded data removed]",
      "text/plain": [
       "<Figure size 432x288 with 1 Axes>"
      ]
     },
     "metadata": {},
     "output_type": "display_data"
    }
   ],
   "source": [
    "plt.scatter(yhats[:10,0], yhats[:10,1])\n",
    "plt.scatter(y[:,0], y[:,1])"
   ]
  },
  {
   "cell_type": "code",
   "execution_count": 55,
   "metadata": {},
   "outputs": [],
   "source": [
    "def trustworthiness(orig, proj, ks):\n",
    "    \"\"\"Calculate a trustworthiness values for dataset.\n",
    "    orig\n",
    "      matrix containing the data in the original space\n",
    "    proj\n",
    "      matrix containing the data in the projected space\n",
    "    ks range indicating neighbourhood(s) for which\n",
    "      trustworthiness is calculated.\n",
    "    Return list of trustworthiness values\n",
    "    \"\"\"\n",
    "\n",
    "    dd_orig = metrics.distance_matrix(orig)\n",
    "    dd_proj = metrics.distance_matrix(proj)\n",
    "    nn_orig = dd_orig.argsort()\n",
    "    nn_proj = dd_proj.argsort()\n",
    "\n",
    "    ranks_orig = metrics.rank_matrix(dd_orig)\n",
    "\n",
    "    trust = []\n",
    "    for k in ks:\n",
    "        moved = []\n",
    "        for i in range(orig.shape[0]):\n",
    "            moved.append(moved_in(nn_orig, nn_proj, i, k))\n",
    "\n",
    "        trust.append(trustcont_sum(moved, ranks_orig, k))\n",
    "\n",
    "    return trust\n",
    "\n",
    "def continuity(orig, proj, ks):\n",
    "    \"\"\"Calculate a continuity values for dataset\n",
    "    orig\n",
    "      matrix containing the data in the original space\n",
    "    proj\n",
    "      matrix containing the data in the projected space\n",
    "    ks range indicating neighbourhood(s) for which continuity\n",
    "      is calculated.\n",
    "    Return a list of continuity values\n",
    "    \"\"\"\n",
    "\n",
    "    dd_orig = metrics.distance_matrix(orig)\n",
    "    dd_proj = metrics.distance_matrix(proj)\n",
    "    nn_orig = dd_orig.argsort()\n",
    "    nn_proj = dd_proj.argsort()\n",
    "\n",
    "    ranks_proj = metrics.rank_matrix(dd_proj)\n",
    "\n",
    "    cont = []\n",
    "    for k in ks:\n",
    "        moved = []\n",
    "        for i in range(orig.shape[0]):\n",
    "            moved.append(moved_out(nn_orig, nn_proj, i, k))\n",
    "\n",
    "        cont.append(trustcont_sum(moved, ranks_proj, k))\n",
    "\n",
    "    return cont\n",
    "\n",
    "def moved_out(nn_orig, nn_proj, i, k):\n",
    "    \"\"\"Determine points that were neighbours in the original space,\n",
    "    but are not neighbours in the projection space.\n",
    "    nn_orig\n",
    "      neighbourhood matrix for original data\n",
    "    nn_proj\n",
    "      neighbourhood matrix for projection data\n",
    "    i\n",
    "      index of the point considered\n",
    "    k\n",
    "      size of the neighbourhood considered\n",
    "    Return a list of indices for 'moved out' values \n",
    "    \"\"\"\n",
    "\n",
    "    oo = list(nn_orig[i, 1:k+1])\n",
    "    pp = list(nn_proj[i, 1:k+1])\n",
    "\n",
    "    for j in pp:\n",
    "        if (j in pp) and (j in oo):\n",
    "            oo.remove(j)\n",
    "\n",
    "    return oo\n",
    "\n",
    "def moved_in(nn_orig, nn_proj, i, k):\n",
    "    \"\"\"Determine points that are neighbours in the projection space,\n",
    "    but were not neighbours in the original space.\n",
    "    nn_orig\n",
    "      neighbourhood matrix for original data\n",
    "    nn_proj\n",
    "      neighbourhood matrix for projection data\n",
    "    i\n",
    "      index of the point considered\n",
    "    k\n",
    "      size of the neighbourhood considered\n",
    "    Return a list of indices for points which are 'moved in' to point i\n",
    "    \"\"\"\n",
    "\n",
    "    pp = list(nn_proj[i, 1:k+1])\n",
    "    oo = list(nn_orig[i, 1:k+1])\n",
    "\n",
    "    for j in oo:\n",
    "        if (j in oo) and (j in pp):\n",
    "            pp.remove(j)\n",
    "\n",
    "    return pp\n",
    "\n",
    "\n",
    "def scaling_term(k, n):\n",
    "    \"\"\"Term that scales measure between zero and one\n",
    "    k  size of the neighbourhood\n",
    "    n  number of datapoints\n",
    "    \"\"\"\n",
    "    if k < (n / 2.0):\n",
    "        return 2.0 / ((n*k)*(2*n - 3*k - 1))\n",
    "    else:\n",
    "        return 2.0 / (n * (n - k) * (n - k - 1))\n",
    "\n",
    "\n",
    "def trustcont_sum(moved, ranks, k):\n",
    "    \"\"\"Calculate sum used in trustworthiness or continuity calculation.\n",
    "    moved\n",
    "       List of lists of indices for those datapoints that have either\n",
    "       moved away in (Continuity) or moved in (Trustworthiness)\n",
    "       projection\n",
    "    ranks\n",
    "       Rank matrix of data set. For trustworthiness, ranking is in the\n",
    "       original space, for continuity, ranking is in the projected\n",
    "       space.\n",
    "    k\n",
    "       size of the neighbournood\n",
    "    \"\"\"\n",
    "\n",
    "    n = ranks.shape[0]\n",
    "    s = 0\n",
    "\n",
    "    # todo: weavefy this for speed\n",
    "    for i in range(n):\n",
    "        for j in moved[i]:\n",
    "            s = s + (ranks[i, j] - k)\n",
    "\n",
    "    a = scaling_term(k, n)\n",
    "\n",
    "    return 1 - a * s"
   ]
  },
  {
   "cell_type": "code",
   "execution_count": 56,
   "metadata": {},
   "outputs": [
    {
     "data": {
      "text/plain": [
       "[tensor(0.6193), tensor(0.5751), tensor(0.5647), tensor(0.5636)]"
      ]
     },
     "execution_count": 56,
     "metadata": {},
     "output_type": "execute_result"
    }
   ],
   "source": [
    "continuity(X ,y.unsqueeze(2) , range(1,5))"
   ]
  },
  {
   "cell_type": "code",
   "execution_count": 46,
   "metadata": {},
   "outputs": [
    {
     "data": {
      "text/plain": [
       "torch.Size([60, 32, 100])"
      ]
     },
     "execution_count": 46,
     "metadata": {},
     "output_type": "execute_result"
    }
   ],
   "source": [
    "X.shape"
   ]
  },
  {
   "cell_type": "code",
   "execution_count": null,
   "metadata": {},
   "outputs": [],
   "source": []
  }
 ],
 "metadata": {
  "kernelspec": {
   "display_name": "Python 3",
   "language": "python",
   "name": "python3"
  },
  "language_info": {
   "codemirror_mode": {
    "name": "ipython",
    "version": 3
   },
   "file_extension": ".py",
   "mimetype": "text/x-python",
   "name": "python",
   "nbconvert_exporter": "python",
   "pygments_lexer": "ipython3",
   "version": "3.8.2"
  }
 },
 "nbformat": 4,
 "nbformat_minor": 4
}
